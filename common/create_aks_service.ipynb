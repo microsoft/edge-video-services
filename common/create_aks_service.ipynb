{
 "cells": [
  {
   "cell_type": "markdown",
   "metadata": {
    "collapsed": true
   },
   "source": [
    "## Create Azure Kubernetes Service\n",
    "Before starting this section, make sure you have set up the global variables from the previous section. Once your global variables have been set up, you no longer have to set them up again, as they are stored in a .env environment file. \n",
    "\n",
    "If you delete your .env file or your Azure login session expires, you may need to re-run the setup process as shown in the [previous section](setup_environment.ipynb). Keep this in mind when proceeding onto the other sections in this sample."
   ]
  },
  {
   "cell_type": "markdown",
   "metadata": {},
   "source": [
    "### Get Global Variables\n",
    "First, we will read the previously stored global variables."
   ]
  },
  {
   "cell_type": "code",
   "execution_count": null,
   "metadata": {},
   "outputs": [],
   "source": [
    "from env_variables import *"
   ]
  },
  {
   "cell_type": "markdown",
   "metadata": {},
   "source": [
    "### Add AKS Preview CLI Extension"
   ]
  },
  {
   "cell_type": "code",
   "execution_count": null,
   "metadata": {},
   "outputs": [],
   "source": [
    "!az extension add --name aks-preview"
   ]
  },
  {
   "cell_type": "markdown",
   "metadata": {},
   "source": [
    "### Deploy AKS Cluster & ADD GPU Nodes to run GPU Based Containers\n",
    "The command below allows you to create an AKS cluster in Azure cloud. This might take some time - please don't cancel the running command. To create an AKS cluster in Azure public MEC, please refer to [create_aks_in_public_mec.md](create_aks_in_public_mec.md). AKS in both Azure cloud and public MEC shares the same configuration steps below."
   ]
  },
  {
   "cell_type": "code",
   "execution_count": null,
   "metadata": {},
   "outputs": [],
   "source": [
    "!az aks create  --name $aksclustername --resource-group $resourceGroupName --node-resource-group $noderesourceGroupName  --node-count 1 --node-vm-size $gpuvmtype --enable-addons monitoring --generate-ssh-keys"
   ]
  },
  {
   "cell_type": "markdown",
   "metadata": {},
   "source": [
    "### Connect to the cluster\n",
    "To manage a Kubernetes cluster, use the Kubernetes command-line client, kubectl."
   ]
  },
  {
   "cell_type": "code",
   "execution_count": null,
   "metadata": {},
   "outputs": [],
   "source": [
    "!az aks install-cli"
   ]
  },
  {
   "cell_type": "markdown",
   "metadata": {},
   "source": [
    "### Configure kubectl to connect to your Kubernetes cluster using the az aks get-credentials command. \n",
    "The following command downloads credentials and configures the Kubernetes CLI to use them.\n",
    "Uses ~/.kube/config, the default location for the Kubernetes configuration file. Specify a different location for your Kubernetes configuration file using --file."
   ]
  },
  {
   "cell_type": "code",
   "execution_count": null,
   "metadata": {},
   "outputs": [],
   "source": [
    "!az aks get-credentials --resource-group $resourceGroupName --name $aksclustername"
   ]
  },
  {
   "cell_type": "markdown",
   "metadata": {},
   "source": [
    "### Verify the connection to your cluster using the kubectl get command. This command returns a list of the cluster nodes."
   ]
  },
  {
   "cell_type": "code",
   "execution_count": null,
   "metadata": {},
   "outputs": [],
   "source": [
    "!kubectl get nodes"
   ]
  },
  {
   "cell_type": "markdown",
   "metadata": {},
   "source": [
    "### Validation Steps\n",
    "\n",
    "Output of about command should look like this. Make sure the node status is Ready. In case nodes are not ready please restart AKS Cluster.\n",
    "\n",
    "<img src=\"../images/_validateaks.JPG\" width=400px/>  "
   ]
  },
  {
   "cell_type": "markdown",
   "metadata": {},
   "source": [
    "### Create an Public IP address and DNS in Azure for AKS cluster so that it can connect with our on-prem edge/kubernetes cluster."
   ]
  },
  {
   "cell_type": "code",
   "execution_count": null,
   "metadata": {},
   "outputs": [],
   "source": [
    "!az network public-ip create -g  $noderesourceGroupName -n $aksclustername --dns-name $aksdns --allocation-method Static --sku Standard"
   ]
  },
  {
   "cell_type": "code",
   "execution_count": null,
   "metadata": {},
   "outputs": [],
   "source": [
    "akspublicipadress = !az network public-ip show -g $noderesourceGroupName -n $aksclustername --query ipAddress -o tsv\n",
    "tempVar = set_key(envPath, \"AKS_PUBLIC_IP_ADDRESS\", akspublicipadress[0].rstrip())"
   ]
  },
  {
   "cell_type": "markdown",
   "metadata": {},
   "source": [
    "### Enabling GPU Support in Kubernetes\n",
    "Once your AKS Cluster is setup & GPU nodes are ready , you can enable GPU support by deploying the following Daemonset:\n",
    "Expected Output of below command > daemonset.apps/nvidia-device-plugin-daemonset created"
   ]
  },
  {
   "cell_type": "code",
   "execution_count": null,
   "metadata": {},
   "outputs": [],
   "source": [
    "!kubectl create -f https://raw.githubusercontent.com/NVIDIA/k8s-device-plugin/v0.9.0/nvidia-device-plugin.yml"
   ]
  },
  {
   "cell_type": "markdown",
   "metadata": {},
   "source": [
    "### Validation output of below command should have accelerator=nvidia\n",
    "accelerator=nvidia\n",
    "\n",
    "<img src=\"../images/_gpu-node-validation.JPG\" width=1000px/> "
   ]
  },
  {
   "cell_type": "code",
   "execution_count": null,
   "metadata": {},
   "outputs": [],
   "source": [
    "!kubectl get nodes --show-labels"
   ]
  },
  {
   "cell_type": "markdown",
   "metadata": {},
   "source": [
    "### Mount Azure File Share on Kubernetes Below instructions allow you to mount Azure File Share, \n",
    "Microsoft's cloud file system, on your local Kubernetes cluster. It is optional but useful especially when you want to examine file output generated by the video ML containers. In the example below, we will mount an Azure File Share with pre-trained DNN models on Triton container on the AKS cluster."
   ]
  },
  {
   "cell_type": "code",
   "execution_count": null,
   "metadata": {},
   "outputs": [],
   "source": [
    "!az storage account keys list -g $resourceGroupName -n $storageServiceName\n",
    "#Retrive the value of key1 and update the value below for both the cells "
   ]
  },
  {
   "cell_type": "markdown",
   "metadata": {},
   "source": [
    "FYI -\n",
    "<img src=\"../images/update-storage-key.png\" width=1000px/>"
   ]
  },
  {
   "cell_type": "code",
   "execution_count": null,
   "metadata": {},
   "outputs": [],
   "source": [
    "#Create a fileshare to host pre-trained DNN models\n",
    "!az storage share create --account-name $storageServiceName --account-key \"Update this value with your storage account key\" --name evsfs"
   ]
  },
  {
   "cell_type": "code",
   "execution_count": null,
   "metadata": {},
   "outputs": [],
   "source": [
    "#Create a fileshare to see output frames \n",
    "!az storage share create --account-name $storageServiceName --account-key \"Update this value with your storage account key\" --name evs"
   ]
  },
  {
   "cell_type": "code",
   "execution_count": null,
   "metadata": {},
   "outputs": [],
   "source": [
    "#create output directory in above fileshare to see output frames\n",
    "!az storage directory create --name output --share-name evs --account-key \"Update this value with your storage account key\" --account-name $storageServiceName"
   ]
  },
  {
   "cell_type": "markdown",
   "metadata": {},
   "source": [
    "### Create a storage access secret\n",
    "Obtain an Microsoft Azure storage account and extract the storage account name (which you provided) and one of the storage account keys. You will then need to create a Kubernetes secret which holds both the account name and key. You can use kubectl directly to create the secret:"
   ]
  },
  {
   "cell_type": "code",
   "execution_count": null,
   "metadata": {},
   "outputs": [],
   "source": [
    "#Please replace the value of <...>(azurestorageaccountkey) with your storageaccount access key \n",
    "!kubectl create secret generic azure-fileshare-secret  --from-literal=azurestorageaccountname=$storageServiceName --from-literal=azurestorageaccountkey=<...>\n"
   ]
  },
  {
   "cell_type": "markdown",
   "metadata": {},
   "source": [
    "This section completes here - Please proceed to Deploy and Orchestrate Video Pipeline (5.1) in a Two-layer Edge Hierarchy in Readme section "
   ]
  }
 ],
 "metadata": {
  "interpreter": {
   "hash": "b3ba2566441a7c06988d0923437866b63cedc61552a5af99d1f4fb67d367b25f"
  },
  "kernelspec": {
   "display_name": "Python 3.8.8 64-bit ('base': conda)",
   "name": "python3"
  },
  "language_info": {
   "codemirror_mode": {
    "name": "ipython",
    "version": 3
   },
   "file_extension": ".py",
   "mimetype": "text/x-python",
   "name": "python",
   "nbconvert_exporter": "python",
   "pygments_lexer": "ipython3",
   "version": "3.8.8"
  }
 },
 "nbformat": 4,
 "nbformat_minor": 2
}
