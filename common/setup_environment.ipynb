{
 "cells": [
  {
   "cell_type": "markdown",
   "metadata": {
    "collapsed": true
   },
   "source": [
    "# Setting Up the Deployment/Test Environment\n",
    "In this section, we will be creating environmental variables and saving them in a .env file in the **common** folder. These variables will be used in later sections."
   ]
  },
  {
   "cell_type": "markdown",
   "metadata": {},
   "source": [
    "## Set Up Global Variables\n",
    "\n",
    "First, change the azureSubscriptionId, resourceLocation, and resourceGroupName variables. The resourceGroupName must be less than 16 characters in length, with only lowercase letters and numbers. It defaults to a random unique name using the cell below. \n",
    "\n",
    "### Note:\n",
    "Please read about naming conventions and restrictions before continuing:  \n",
    "- [Naming rules and restrictions for Azure resources](https://docs.microsoft.com/en-us/azure/azure-resource-manager/management/resource-name-rules)  \n",
    "- [Create a unique name for a resource](https://docs.microsoft.com/en-us/azure/azure-resource-manager/templates/template-functions-string#uniquestring)  "
   ]
  },
  {
   "cell_type": "code",
   "execution_count": null,
   "metadata": {},
   "outputs": [],
   "source": [
    "# First, we will create a random name to append our Azure resource names. The name is not guaranteed to be unique, but doing this will increase the chances of generating a unique name. If the code snippet returns an error such as \"resource name already exist\", you should re-generate new name values.\n",
    "import uuid \n",
    "nearlyUniqueName = uuid.uuid4().hex[:3].lower()"
   ]
  },
  {
   "cell_type": "code",
   "execution_count": null,
   "metadata": {},
   "outputs": [],
   "source": [
    "# Mandatory settings section\n",
    "# ---------------------------\n",
    "\n",
    "# Define the ID of the Azure subscription that will be used\n",
    "# You can find your subscription ID at https://account.azure.com/subscriptions\n",
    "azureSubscriptionId = \"XXXXXXXXXXXXXXXXXXXXXXXXXXXXXXXXXXXXX\"\n",
    "\n",
    "# Define the datacenter location of the Azure services that will be created.This part assumes that your chosen resourceLocation has enough GPU (N Series VM's) quota. Please double-check whether the region you've chosen has GPU Quota for Standard NC6s v2 or not. If it doesn't, please choose another location or GPU VM Type.\n",
    "#Please select a region to deploy resources from this list: eastus2, northcentralus, uksouth, westus2.\n",
    "resourceLocation = \"westus2\" \n",
    "\n",
    "# Define the name of the resource group you will use to contain all of the Azure services that will be created.\n",
    "# Please use a globally unique resource group name\n",
    "resourceGroupName = \"evslab\" + nearlyUniqueName\n",
    "# resourceGroupName = \"<RESOURCE_GROUP_NAME>\"  # Uncomment this command if you want to create your own Resource Group Name\n",
    "\n",
    "#Parameters for Azure Kubernetes cluster\n",
    "\n",
    "#Node resource group name for AKS \n",
    "noderesourceGroupName = resourceGroupName+'evsnoderg'\n",
    "aksclustername = resourceGroupName+'evsakscluster'\n",
    "aksdns = resourceGroupName+'aksdns'\n",
    "gpuvmtype = 'Standard_NC6s_v2'\n",
    "\n",
    "#Parameters for EVS Deployment\n",
    "\n",
    "videoinputfolderondevice=\"/evs/input\"\n",
    "evsclientimage =\"evsclient:1.0\"\n",
    "evsclientendpointlocal=\"endpointLocal=http://rocket:7788/api/ImageItems\"\n",
    "evsclientendpointtype=\"endpointType=rocket\"\n",
    "#evsclientendpointremote=\"endpointRemote=http://<Update with your AKS DNS name eg: evsfoaks1.westus2.cloudapp.azure.com >:8888/api/Video\" #We will update this value later in this section\n",
    "evsclientendpointremote = 'endpointRemote='+'http://'+aksdns+'.'+resourceLocation+'.cloudapp.azure.com:8888/api/Video'\n",
    "evsclientfolderondevice=\"/evs/evsclient\"\n",
    "evsclientline=\"line=https://aka.ms/linesample\"\n",
    "evsclientvideourl=\"videoUrl=sample.mp4\"\n",
    "evsclientsamplingrate=\"ingestSamplingRate=3\"\n",
    "evsclientcategory=\"cat=car,bicycle\"\n",
    "rocketoutputfolderondevice = \"/evs/rocket\"\n",
    "rocketimage = \"rocket:1.0\"\n",
    "rocketpipeline=\"pipeline=5\"\n",
    "rocketline=\"line=https://aka.ms/linesample\"\n",
    "\n",
    "# Optional settings section\n",
    "# ---------------------------\n",
    "\n",
    "# Azure IoT Hub service\n",
    "iotHubServiceName = resourceGroupName+'iothub'\n",
    "\n",
    "# Define a unique IoT Edge device ID\n",
    "iotDeviceId = resourceGroupName+'iotdevid'\n",
    "\n",
    "# Azure Storage services\n",
    "storageServiceName = resourceGroupName+'storage'\n"
   ]
  },
  {
   "cell_type": "code",
   "execution_count": null,
   "metadata": {
    "tags": []
   },
   "outputs": [],
   "source": [
    "import re\n",
    "pattern = '^[a-z0-9_]{1,16}$'\n",
    "if not re.search(pattern, resourceGroupName): \n",
    "      print(\"The resourceGroupName must be less than 16 characters in length, with only lowercase letters and numbers.\")"
   ]
  },
  {
   "cell_type": "markdown",
   "metadata": {},
   "source": [
    "## Check Azure CLI Version\n",
    "Azure CLI is required to run this sample. Please check if Azure CLI has been installed on your machine. If it has not, then visit the [requirements for running LVA on Jupyter](requirements.md) page."
   ]
  },
  {
   "cell_type": "code",
   "execution_count": null,
   "metadata": {},
   "outputs": [],
   "source": [
    "!az --version"
   ]
  },
  {
   "cell_type": "markdown",
   "metadata": {},
   "source": [
    "If the command does not run successfully, try reopening VSCode or restarting your development PC."
   ]
  },
  {
   "cell_type": "markdown",
   "metadata": {},
   "source": [
    "## Login to Azure\n",
    "> <span style=\"color:red; font-weight:bold\"> [!IMPORTANT] </span>  \n",
    "> Run the following command and **follow the instructions** in the corresponding output cell (i.e., a browser popup). You can run the `az logout` command or stop the kernel to logout."
   ]
  },
  {
   "cell_type": "code",
   "execution_count": null,
   "metadata": {},
   "outputs": [],
   "source": [
    "!az login -o None"
   ]
  },
  {
   "cell_type": "markdown",
   "metadata": {},
   "source": [
    "## Set Active Azure Subscription\n",
    "In case you have more than one Azure subscription, we will set the one you specified in the **azureSubscriptionId** variable as the default to be used."
   ]
  },
  {
   "cell_type": "code",
   "execution_count": null,
   "metadata": {},
   "outputs": [],
   "source": [
    "!az account set --subscription $azureSubscriptionId"
   ]
  },
  {
   "cell_type": "markdown",
   "metadata": {},
   "source": [
    "## Save Global Variables in .env File\n",
    "Check if a [.env](.env) file already exists. If not, the following cell will create a new one. The .env file is where we will store our variables to share with other notebooks of this sample."
   ]
  },
  {
   "cell_type": "markdown",
   "metadata": {},
   "source": [
    "After completing the rest of these notebooks, your .env file will look something like this (\"...\" to indicate user-specific information):\n",
    "\n",
    "```\n",
    "NEARLY_UNIQUE_NAME='...'\n",
    "SUBSCRIPTION_ID='...'\n",
    "RESOURCE_LOCATION='...'\n",
    "RESOURCE_GROUP='...'\n",
    "IOT_HUB_SERVICE_NAME='...'\n",
    "IOT_DEVICE_ID='...'\n",
    "STORAGE_SERVICE_NAME='...'\n",
    "NODE_RESOURCEGROUP='...'\n",
    "AKS_CLUSTERNAME='...'\n",
    "AKS_DNS='...'\n",
    "GPU_VM_SIZE='...'\n",
    "VIDEO_INPUT_FOLDER_ON_DEVICE='...'\n",
    "EVSCLIENT_IMAGE='...'\n",
    "EVSCLIENT_ENDPOINTLOCAL='...'\n",
    "EVSCLIENT_ENDPOINTTYPE='...'\n",
    "EVSCLIENT_ENDPOINTREMOTE='...'\n",
    "EVSCLIENT_OUTPUT_FOLDER_ON_DEVICE='...'\n",
    "EVSCLIENT_LINE='...'\n",
    "EVSCLIENT_VIDEOURL='...'\n",
    "EVSCLIENT_SAMPLINGRATE='...'\n",
    "EVSCLIENT_CATEGORY='...'\n",
    "ROCKET_OUTPUT_FOLDER_ON_DEVICE='...'\n",
    "ROCKET_IMAGE='...'\n",
    "ROCKET_PIPELINE='...'\n",
    "ROCKET_LINE='...'\n",
    "```"
   ]
  },
  {
   "cell_type": "code",
   "execution_count": null,
   "metadata": {},
   "outputs": [],
   "source": [
    "from pathlib import Path\n",
    "from dotenv import set_key, get_key, find_dotenv\n",
    "\n",
    "envPath = find_dotenv()\n",
    "if envPath==\"\":\n",
    "    Path(\".env\").touch()\n",
    "    envPath = find_dotenv()\n",
    "    \n",
    "print(\".env file path: {0}\".format(envPath))"
   ]
  },
  {
   "cell_type": "code",
   "execution_count": null,
   "metadata": {},
   "outputs": [],
   "source": [
    "set_key(envPath, \"NEARLY_UNIQUE_NAME\", nearlyUniqueName)\n",
    "set_key(envPath, \"SUBSCRIPTION_ID\", azureSubscriptionId)\n",
    "set_key(envPath, \"RESOURCE_LOCATION\", resourceLocation)\n",
    "set_key(envPath, \"RESOURCE_GROUP\", resourceGroupName)\n",
    "set_key(envPath, \"IOT_HUB_SERVICE_NAME\", iotHubServiceName)\n",
    "set_key(envPath, \"IOT_DEVICE_ID\", iotDeviceId)\n",
    "set_key(envPath, \"STORAGE_SERVICE_NAME\", storageServiceName)\n",
    "set_key(envPath, \"NODE_RESOURCEGROUP\", noderesourceGroupName)\n",
    "set_key(envPath, \"AKS_CLUSTERNAME\", aksclustername)\n",
    "set_key(envPath, \"AKS_DNS\", aksdns)\n",
    "set_key(envPath, \"GPU_VM_SIZE\", gpuvmtype)\n",
    "set_key(envPath, \"VIDEO_INPUT_FOLDER_ON_DEVICE\", videoinputfolderondevice)\n",
    "set_key(envPath, \"EVSCLIENT_IMAGE\", evsclientimage)\n",
    "set_key(envPath, \"EVSCLIENT_ENDPOINTLOCAL\", evsclientendpointlocal)\n",
    "set_key(envPath, \"EVSCLIENT_ENDPOINTTYPE\", evsclientendpointtype)\n",
    "set_key(envPath, \"EVSCLIENT_ENDPOINTREMOTE\", evsclientendpointremote)\n",
    "set_key(envPath, \"EVSCLIENT_OUTPUT_FOLDER_ON_DEVICE\", evsclientfolderondevice)\n",
    "set_key(envPath, \"EVSCLIENT_LINE\", evsclientline)\n",
    "set_key(envPath, \"EVSCLIENT_VIDEOURL\", evsclientvideourl)\n",
    "set_key(envPath, \"EVSCLIENT_SAMPLINGRATE\", evsclientsamplingrate)\n",
    "set_key(envPath, \"EVSCLIENT_CATEGORY\", evsclientcategory)\n",
    "set_key(envPath, \"ROCKET_OUTPUT_FOLDER_ON_DEVICE\", rocketoutputfolderondevice)\n",
    "set_key(envPath, \"ROCKET_IMAGE\", rocketimage)\n",
    "set_key(envPath, \"ROCKET_PIPELINE\", rocketpipeline)\n",
    "tempVar = set_key(envPath, \"ROCKET_LINE\", rocketline)"
   ]
  },
  {
   "cell_type": "markdown",
   "metadata": {},
   "source": [
    "## Validation Steps\n",
    "If all the code cells above have successfully finished running, check the [.env file](.env) to see if all the variables set above have been included. If you cannot find the .env file, try refershing the explorer pane.\n",
    "\n",
    "<img src=\"../images/_refresh_explorer.JPG\" width=355px/>  \n",
    " \n",
    "Then, return to the Readme page (3.2) to continue.   "
   ]
  }
 ],
 "metadata": {
  "interpreter": {
   "hash": "b3ba2566441a7c06988d0923437866b63cedc61552a5af99d1f4fb67d367b25f"
  },
  "kernelspec": {
   "display_name": "Python 3.8.8 64-bit ('base': conda)",
   "name": "python3"
  },
  "language_info": {
   "codemirror_mode": {
    "name": "ipython",
    "version": 3
   },
   "file_extension": ".py",
   "mimetype": "text/x-python",
   "name": "python",
   "nbconvert_exporter": "python",
   "pygments_lexer": "ipython3",
   "version": "3.8.8"
  }
 },
 "nbformat": 4,
 "nbformat_minor": 2
}
