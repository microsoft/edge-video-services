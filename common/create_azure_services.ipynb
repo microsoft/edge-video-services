{
 "cells": [
  {
   "cell_type": "markdown",
   "metadata": {
    "collapsed": true
   },
   "source": [
    "# Create Required Azure Services\n",
    "Before starting this section, make sure you have set up the global variables from the previous section. Once your global variables have been set up, you no longer have to set them up again, as they are stored in a .env environment file. \n",
    "\n",
    "If you delete your .env file or your Azure login session expires, you may need to re-run the setup process as shown in the [previous section](setup_environment.ipynb). Keep this in mind when proceeding onto the other sections in this sample."
   ]
  },
  {
   "cell_type": "markdown",
   "metadata": {},
   "source": [
    "## Get Global Variables\n",
    "First, we will read the previously stored global variables."
   ]
  },
  {
   "cell_type": "code",
   "execution_count": null,
   "metadata": {},
   "outputs": [],
   "source": [
    "from env_variables import *"
   ]
  },
  {
   "cell_type": "markdown",
   "metadata": {},
   "source": [
    "## Create Resource Group\n",
    "A resource group is a container that holds related resources for an Azure solution. The resource group can include all the resources for the solution, or only those resources that you want to manage as a group. \n",
    "We will now create a new Azure resource group using the resource group name and location set in the [previous section](setup_environment.ipynb). Check that this name is present in the .env file, as this name will be auto-filled into the placeholders starting with the character \"$\".\n",
    "\n",
    "First, we will tag your resource group with your username and \"evs\" so that it will be easy to find."
   ]
  },
  {
   "cell_type": "code",
   "execution_count": null,
   "metadata": {},
   "outputs": [],
   "source": [
    "import os\n",
    "from sys import platform\n",
    "\n",
    "if platform == \"win32\": #Windows\n",
    "    userName = (os.environ['USERNAME']).lower()\n",
    "else: #Linux or MacOS\n",
    "    userName = (os.environ['USER']).lower()\n",
    "\n",
    "set_key(envPath, \"USERNAME\", userName)\n",
    "\n",
    "resourceTags = \"Owner={} Project=evs\".format(userName)"
   ]
  },
  {
   "cell_type": "code",
   "execution_count": null,
   "metadata": {},
   "outputs": [],
   "source": [
    "!az group create --name $resourceGroupName --location  $resourceLocation --tag $resourceTags"
   ]
  },
  {
   "cell_type": "markdown",
   "metadata": {},
   "source": [
    "> <span style=\"color:red; font-weight: bold\"> [!WARNING] </span>  \n",
    "> Even if the cell above finishes executing, it may take several seconds to minutes to have the changes reflected on Azure Datacenter. Wait for 2-3 minutes before proceeding to the next cell to avoid running into errors."
   ]
  },
  {
   "cell_type": "markdown",
   "metadata": {},
   "source": [
    "## Create Azure IoT Hub\n",
    "Next, we will create an Azure IoT Hub."
   ]
  },
  {
   "cell_type": "code",
   "execution_count": null,
   "metadata": {},
   "outputs": [],
   "source": [
    "!az iot hub create --name $iotHubServiceName --resource-group $resourceGroupName --location $resourceLocation --sku S1"
   ]
  },
  {
   "cell_type": "markdown",
   "metadata": {},
   "source": [
    "Run the cells below to save these Azure IoT Hub connection string for future use by storing it in the .env file. This string is used to identify the hub.\n",
    "\n"
   ]
  },
  {
   "cell_type": "code",
   "execution_count": null,
   "metadata": {},
   "outputs": [],
   "source": [
    "iotHubConnString = !az iot hub connection-string show --hub-name $iotHubServiceName --output tsv"
   ]
  },
  {
   "cell_type": "code",
   "execution_count": null,
   "metadata": {},
   "outputs": [],
   "source": [
    "tempVar = set_key(envPath, \"IOT_HUB_CONN_STRING\", iotHubConnString[0].rstrip())"
   ]
  },
  {
   "cell_type": "markdown",
   "metadata": {},
   "source": [
    "Note: If .env file has the error like this \"IOT_HUB_CONN_STRING='ERROR: The command requires the extension azure-iot. Unable to prompt for extension install confirmation as no tty available. Run \\'az config set extension.use_dynamic_install=yes_without_prompt\\' to allow installing extensions without prompt.'\" \n",
    "Rerun above two cells only\n",
    "iotHubConnString = !az iot hub connection-string show --hub-name $iotHubServiceName --output tsv\n",
    "tempVar = set_key(envPath, \"IOT_HUB_CONN_STRING\", iotHubConnString[0].rstrip())\n"
   ]
  },
  {
   "cell_type": "markdown",
   "metadata": {},
   "source": [
    "## Create IoT Edge Device Identity\n",
    "To run LVA on the Edge, we will need to create an IoT Edge device to run our modules with AI capability. In the code below, we will instruct Azure IoT Hub to create a resource framework for this cloud-based IoT Edge device."
   ]
  },
  {
   "cell_type": "code",
   "execution_count": null,
   "metadata": {},
   "outputs": [],
   "source": [
    "# Install iot hub CLI extensions\n",
    "!az extension add --name azure-iot"
   ]
  },
  {
   "cell_type": "markdown",
   "metadata": {},
   "source": [
    "If we want to connect/match physical devices to this cloud-based Edge device later, the connection will be set using the IoT Edge device's connection string. Everything in this cloud-based Edge device will be cloned into the physical device, including all the IoT Edge modules. Thus, we will also be printing out and saving the cloud-based IoT Edge device's connection string for future use."
   ]
  },
  {
   "cell_type": "code",
   "execution_count": null,
   "metadata": {},
   "outputs": [],
   "source": [
    "# Create edge device if one does not already exist\n",
    "tempVar = !az iot hub device-identity create --hub-name $iotHubServiceName --device-id $iotDeviceId --edge-enabled\n",
    "iotEdgeDeviceConnString = !az iot hub device-identity connection-string show --hub-name $iotHubServiceName --device-id $iotDeviceId --output tsv"
   ]
  },
  {
   "cell_type": "markdown",
   "metadata": {},
   "source": [
    "Run the cell below to save the IoT Edge Device Connection String in the environment file for future use"
   ]
  },
  {
   "cell_type": "code",
   "execution_count": null,
   "metadata": {},
   "outputs": [],
   "source": [
    "tempVar = set_key(envPath, \"IOT_EDGE_DEVICE_CONN_STRING\", iotEdgeDeviceConnString[0].rstrip())"
   ]
  },
  {
   "cell_type": "markdown",
   "metadata": {},
   "source": [
    "## Create Azure Storage Services\n",
    "To store media assets onto Azure, we must also create a storage resource."
   ]
  },
  {
   "cell_type": "code",
   "execution_count": null,
   "metadata": {},
   "outputs": [],
   "source": [
    "!az storage account create --name $storageServiceName --resource-group $resourceGroupName --location $resourceLocation --sku Standard_LRS --tag $resourceTags"
   ]
  },
  {
   "cell_type": "markdown",
   "metadata": {},
   "source": [
    "## Next Steps\n",
    "If all the code cells above have successfully finished running, please validate .env file - It should have all the requried values. \n",
    "Return to the Readme (4.1) page to continue.   "
   ]
  }
 ],
 "metadata": {
  "interpreter": {
   "hash": "b3ba2566441a7c06988d0923437866b63cedc61552a5af99d1f4fb67d367b25f"
  },
  "kernelspec": {
   "display_name": "Python 3.8.8 64-bit ('base': conda)",
   "name": "python3"
  },
  "language_info": {
   "codemirror_mode": {
    "name": "ipython",
    "version": 3
   },
   "file_extension": ".py",
   "mimetype": "text/x-python",
   "name": "python",
   "nbconvert_exporter": "python",
   "pygments_lexer": "ipython3",
   "version": "3.8.8"
  }
 },
 "nbformat": 4,
 "nbformat_minor": 2
}
